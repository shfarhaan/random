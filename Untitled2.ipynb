{
  "nbformat": 4,
  "nbformat_minor": 0,
  "metadata": {
    "colab": {
      "provenance": [],
      "authorship_tag": "ABX9TyOFXlyN8DoPYy1dBj3BZTpE",
      "include_colab_link": true
    },
    "kernelspec": {
      "name": "python3",
      "display_name": "Python 3"
    },
    "language_info": {
      "name": "python"
    }
  },
  "cells": [
    {
      "cell_type": "markdown",
      "metadata": {
        "id": "view-in-github",
        "colab_type": "text"
      },
      "source": [
        "<a href=\"https://colab.research.google.com/github/shfarhaan/random/blob/main/Untitled2.ipynb\" target=\"_parent\"><img src=\"https://colab.research.google.com/assets/colab-badge.svg\" alt=\"Open In Colab\"/></a>"
      ]
    },
    {
      "cell_type": "code",
      "execution_count": 12,
      "metadata": {
        "colab": {
          "base_uri": "https://localhost:8080/"
        },
        "id": "CLMU9wRNSkE2",
        "outputId": "18ec2eea-8095-46a9-a475-91940ef000fd"
      },
      "outputs": [
        {
          "output_type": "stream",
          "name": "stdout",
          "text": [
            "Last occurrence of the element is at index: 6\n",
            "Length:  14\n",
            "Reverse Order:  [10, 9, 9, 8, 7, 7, 6, 5, 5, 4, 3, 2, 5, 1]\n",
            "Index element:  7\n"
          ]
        }
      ],
      "source": [
        "# Answer to question 18 Find the last occurrence of an element in a list\n",
        "# Given a list and an element, write a program to find the last occurrence of the element in the list.\n",
        "my_list = [1, 5, 2, 3, 4, 5, 5, 6, 7, 7, 8, 9, 9, 10]\n",
        "element = 5\n",
        "last_occurrence_index = len(my_list) - my_list[::-1].index(element) - 1\n",
        "print(\"Last occurrence of the element is at index:\", last_occurrence_index)\n",
        "print(\"Length: \", len(my_list))\n",
        "\n",
        "print(\"Reverse Order: \", my_list[::-1])\n",
        "\n",
        "print(\"Index element: \", my_list[::-1].index(element) )\n",
        "\n"
      ]
    },
    {
      "cell_type": "code",
      "source": [
        "# Answer to question 18 Find the last occurrence of an element in a list\n",
        "# Given a list and an element, write a program to find the last occurrence of the element in the list.\n",
        "my_list = [1, 2, 3, 4, 5, 6, 7, 8, 9, 10]\n",
        "element = 5\n",
        "last_occurrence_index = my_list.rindex(element)\n",
        "print(\"Last occurrence of the element is at index:\", last_occurrence_index)"
      ],
      "metadata": {
        "colab": {
          "base_uri": "https://localhost:8080/",
          "height": 217
        },
        "id": "iIWWWvsZS1Bo",
        "outputId": "38364391-97af-445b-8402-5c31931f1dd6"
      },
      "execution_count": 2,
      "outputs": [
        {
          "output_type": "error",
          "ename": "AttributeError",
          "evalue": "ignored",
          "traceback": [
            "\u001b[0;31m---------------------------------------------------------------------------\u001b[0m",
            "\u001b[0;31mAttributeError\u001b[0m                            Traceback (most recent call last)",
            "\u001b[0;32m<ipython-input-2-e28ad9e1e54c>\u001b[0m in \u001b[0;36m<cell line: 5>\u001b[0;34m()\u001b[0m\n\u001b[1;32m      3\u001b[0m \u001b[0mmy_list\u001b[0m \u001b[0;34m=\u001b[0m \u001b[0;34m[\u001b[0m\u001b[0;36m1\u001b[0m\u001b[0;34m,\u001b[0m \u001b[0;36m2\u001b[0m\u001b[0;34m,\u001b[0m \u001b[0;36m3\u001b[0m\u001b[0;34m,\u001b[0m \u001b[0;36m4\u001b[0m\u001b[0;34m,\u001b[0m \u001b[0;36m5\u001b[0m\u001b[0;34m,\u001b[0m \u001b[0;36m6\u001b[0m\u001b[0;34m,\u001b[0m \u001b[0;36m7\u001b[0m\u001b[0;34m,\u001b[0m \u001b[0;36m8\u001b[0m\u001b[0;34m,\u001b[0m \u001b[0;36m9\u001b[0m\u001b[0;34m,\u001b[0m \u001b[0;36m10\u001b[0m\u001b[0;34m]\u001b[0m\u001b[0;34m\u001b[0m\u001b[0;34m\u001b[0m\u001b[0m\n\u001b[1;32m      4\u001b[0m \u001b[0melement\u001b[0m \u001b[0;34m=\u001b[0m \u001b[0;36m5\u001b[0m\u001b[0;34m\u001b[0m\u001b[0;34m\u001b[0m\u001b[0m\n\u001b[0;32m----> 5\u001b[0;31m \u001b[0mlast_occurrence_index\u001b[0m \u001b[0;34m=\u001b[0m \u001b[0mmy_list\u001b[0m\u001b[0;34m.\u001b[0m\u001b[0mrindex\u001b[0m\u001b[0;34m(\u001b[0m\u001b[0melement\u001b[0m\u001b[0;34m)\u001b[0m\u001b[0;34m\u001b[0m\u001b[0;34m\u001b[0m\u001b[0m\n\u001b[0m\u001b[1;32m      6\u001b[0m \u001b[0mprint\u001b[0m\u001b[0;34m(\u001b[0m\u001b[0;34m\"Last occurrence of the element is at index:\"\u001b[0m\u001b[0;34m,\u001b[0m \u001b[0mlast_occurrence_index\u001b[0m\u001b[0;34m)\u001b[0m\u001b[0;34m\u001b[0m\u001b[0;34m\u001b[0m\u001b[0m\n",
            "\u001b[0;31mAttributeError\u001b[0m: 'list' object has no attribute 'rindex'"
          ]
        }
      ]
    },
    {
      "cell_type": "code",
      "source": [
        "# color = ['Red', 'Green', 'White', 'Black', 'Pink', 'Yellow']\n",
        "# color = [each_element for (i,each_element) in enumerate(color) if i not in (0,4,5)]\n",
        "# print(color)\n",
        "\n",
        "# # print(list(enumerate(color)))"
      ],
      "metadata": {
        "id": "k92WumrHaE_p"
      },
      "execution_count": 18,
      "outputs": []
    },
    {
      "cell_type": "code",
      "source": [
        "color = ['Red', 'Green', 'White', 'Black', 'Pink', 'Yellow']\n",
        "for (i, each_element) in enumerate(color):\n",
        "    if i not in (0,4,5):\n",
        "        print(each_element)"
      ],
      "metadata": {
        "colab": {
          "base_uri": "https://localhost:8080/"
        },
        "id": "LW9uep_ybQqR",
        "outputId": "c0b8860d-071f-486b-d0e2-cc622a9d8a4c"
      },
      "execution_count": 25,
      "outputs": [
        {
          "output_type": "stream",
          "name": "stdout",
          "text": [
            "Green\n",
            "White\n",
            "Black\n"
          ]
        }
      ]
    },
    {
      "cell_type": "code",
      "source": [
        "lists = ['Red', 'Green', 'White', 'Black', 'Pink', 'Yellow']\n",
        "\n",
        "new_list = []\n",
        "for i in range(len(lists)):\n",
        "    if i == 0 or i == 4 or i == 5:\n",
        "        continue\n",
        "    else:\n",
        "        new_list.append(lists[i])\n",
        "\n",
        "print(new_list)"
      ],
      "metadata": {
        "colab": {
          "base_uri": "https://localhost:8080/"
        },
        "id": "-es4fRDacg_X",
        "outputId": "50ad149a-fa42-4e51-c94e-12901ddcc501"
      },
      "execution_count": 20,
      "outputs": [
        {
          "output_type": "stream",
          "name": "stdout",
          "text": [
            "['Green', 'White', 'Black']\n"
          ]
        }
      ]
    },
    {
      "cell_type": "code",
      "source": [
        "color=['red','green', 'white', 'black', 'pink','yellow']\n",
        "for (i,el)in enumerate(color):\n",
        "  if i not in (0,4,5):\n",
        "    print(el)"
      ],
      "metadata": {
        "colab": {
          "base_uri": "https://localhost:8080/"
        },
        "id": "_OhbL_G4aLVA",
        "outputId": "d85df11f-ed68-48f3-c33b-4a308891bf4e"
      },
      "execution_count": 23,
      "outputs": [
        {
          "output_type": "stream",
          "name": "stdout",
          "text": [
            "green\n",
            "white\n",
            "black\n"
          ]
        }
      ]
    }
  ]
}